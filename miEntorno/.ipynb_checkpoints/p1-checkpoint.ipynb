{
 "cells": [
  {
   "cell_type": "code",
   "execution_count": null,
   "id": "058c5bce-87a9-498a-9080-2c5a01828b89",
   "metadata": {},
   "outputs": [
    {
     "ename": "SyntaxError",
     "evalue": "invalid syntax (1319193166.py, line 37)",
     "output_type": "error",
     "traceback": [
      "  \u001b[36mCell\u001b[39m\u001b[36m \u001b[39m\u001b[32mIn[3]\u001b[39m\u001b[32m, line 37\u001b[39m\n\u001b[31m    \u001b[39m\u001b[31mroot tk.Tk()\u001b[39m\n         ^\n\u001b[31mSyntaxError\u001b[39m\u001b[31m:\u001b[39m invalid syntax\n"
     ]
    }
   ],
   "source": [
    "import tkinter as tk\n",
    "from tkinter import messagebox\n",
    "import random\n",
    "import string\n",
    "\n",
    "# tinker helps with GUI\n",
    "def generatePassword():\n",
    "    try:\n",
    "        length = int(length_entry.get())\n",
    "        if length < 4:\n",
    "            messageBox.showwarning(\"Invalid Length\",\"password length should be at least 4\")\n",
    "            return\n",
    "\n",
    "        characters = \"\"\n",
    "        if use_upper.get():\n",
    "            characters += string.ascii_uppercase\n",
    "        if use_lower.get():\n",
    "            characters += string.ascii_lowercase\n",
    "        if use_digits.get():\n",
    "            characters += string.digits\n",
    "        if use_symbols.get():\n",
    "            characters += string.punctuation\n",
    "        if not characters:\n",
    "            messagebox.showwarning(\"Selection Error\",\"Please select at least one character set!\")\n",
    "            return\n",
    "        password = \"\".join(random.choice(characters) for _ in range(length))\n",
    "        password_var.set(password)\n",
    "    except ValueError:\n",
    "        messagebox.showerror(\"Input error\",\"Enter a valid number length!\")\n",
    "\n",
    "def copyToClipboard():\n",
    "    root.clipboard_clear()\n",
    "    root.clipboard_append(password_var.get())\n",
    "    messagebox.showinfo(\"Copied to clipboard\",\"Password copied to clipboard\")\n",
    "\n",
    "#GUI window\n",
    "root = tk.Tk()\n",
    "root.title(\"🔐 password generator\")\n",
    "root.geometry(\"400x300\")\n",
    "root.config(bg=\"lightgray\")\n",
    "\n",
    "#title\n",
    "tk.Label(root,text=\"Password Generator\",font=(\"Helvetica\",16,\"bold\"), bg=\"lightgray\").pack(pady=10)\n",
    "\n",
    "#password length\n",
    "tk.Label(root, text=\"Enter password length: \",bg =\"ligthgray\").pack()\n",
    "length_entry = tk.Entry(root)\n",
    "length_entry.pack()\n",
    "\n",
    "#Checkbuttons\n",
    "use_upper = tk.BooleanVar(value=True)\n",
    "use_lower = tk.BooleanVar(value=True)\n",
    "use_digits = tk.BooleanVar(value=True)\n",
    "use_symbols = tk.BooleanVar(value=True)\n",
    "\n",
    "tk.Checkbutton(root, text=\"Include Uppercase\", variable=use_upper, bg=\"lightgray\").pack()\n",
    "tk.Checkbutton(root, text=\"Include Lowercase\", variable=use_lower, bg=\"lightgray\").pack()\n",
    "tk.Checkbutton(root, text=\"Include Digits\", variable=use_digits, bg=\"lightgray\").pack()\n",
    "tk.Checkbutton(root, text=\"Include Symbols\", variable=use_symbols, bg=\"lightgray\").pack()\n",
    "\n",
    "# Output\n",
    "password_var = tk.StringVar()\n",
    "tk.Entry(root, textvariable=password_var, font=(\"Courier\", 12), justify=\"center\").pack(pady=10)\n",
    "\n",
    "# Buttons\n",
    "tk.Button(root, text=\"Generate Password\", command=generatePassword, bg=\"green\", fg=\"white\").pack(pady=5)\n",
    "tk.Button(root, text=\"Copy to Clipboard\", command=copyToClipboard, bg=\"blue\", fg=\"white\").pack()\n",
    "\n",
    "root.mainloop()\n",
    "        \n",
    "        \n"
   ]
  },
  {
   "cell_type": "code",
   "execution_count": null,
   "id": "a9214a27-fb49-4c19-97ff-dea417b82262",
   "metadata": {},
   "outputs": [],
   "source": []
  },
  {
   "cell_type": "code",
   "execution_count": null,
   "id": "be8e5178-3213-414c-92b2-b868fe62664d",
   "metadata": {},
   "outputs": [],
   "source": []
  },
  {
   "cell_type": "code",
   "execution_count": null,
   "id": "1a367635-f4b0-44e9-a4c5-4a529ceff98a",
   "metadata": {},
   "outputs": [],
   "source": []
  },
  {
   "cell_type": "code",
   "execution_count": null,
   "id": "05ae25b6-3873-49c1-9da1-cfc409230cbe",
   "metadata": {},
   "outputs": [],
   "source": []
  },
  {
   "cell_type": "code",
   "execution_count": null,
   "id": "0f41e610-7b61-487a-9e27-bffaa69602d6",
   "metadata": {},
   "outputs": [],
   "source": []
  },
  {
   "cell_type": "code",
   "execution_count": null,
   "id": "3d2fc734-f640-4caa-8f53-63c4651496eb",
   "metadata": {},
   "outputs": [],
   "source": []
  },
  {
   "cell_type": "code",
   "execution_count": null,
   "id": "9199d0e5-61b0-4e80-8c9a-bd4fe8e0c567",
   "metadata": {},
   "outputs": [],
   "source": []
  }
 ],
 "metadata": {
  "kernelspec": {
   "display_name": "Python 3 (ipykernel)",
   "language": "python",
   "name": "python3"
  },
  "language_info": {
   "codemirror_mode": {
    "name": "ipython",
    "version": 3
   },
   "file_extension": ".py",
   "mimetype": "text/x-python",
   "name": "python",
   "nbconvert_exporter": "python",
   "pygments_lexer": "ipython3",
   "version": "3.13.7"
  }
 },
 "nbformat": 4,
 "nbformat_minor": 5
}
